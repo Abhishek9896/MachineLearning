{
 "cells": [
  {
   "cell_type": "markdown",
   "metadata": {},
   "source": [
    "1. Write a function that inputs a number and prints the multiplication table of that numbe"
   ]
  },
  {
   "cell_type": "code",
   "execution_count": 1,
   "metadata": {},
   "outputs": [
    {
     "name": "stdout",
     "output_type": "stream",
     "text": [
      "Please enter the number you want the table of : 1\n",
      "Please enter the number till which you want to compute the table : 4\n",
      " 1 X 1 = 1\n",
      " 1 X 2 = 2\n",
      " 1 X 3 = 3\n",
      " 1 X 4 = 4\n"
     ]
    }
   ],
   "source": [
    "\n",
    "\n",
    "def get_multiplication_table(val,table_till):\n",
    "    #print(val)\n",
    "    #print(table_till)\n",
    "    \"\"\"This function outputs the multiplication table\"\"\"\n",
    "    \n",
    "    for i in range(1,table_till+1):\n",
    "        print (\" {0} X {1} = {2}\".format(val,i,val*i))\n",
    "\n",
    "num = int(input(\"Please enter the number you want the table of : \" ))\n",
    "final_res = int(input(\"Please enter the number till which you want to compute the table : \" ))\n",
    "\n",
    "get_multiplication_table(num,final_res)\n",
    "#print(get_multiplication_table.__doc__)"
   ]
  },
  {
   "cell_type": "markdown",
   "metadata": {},
   "source": [
    "2. Write a program to print twin primes less than 1000. If two consecutive odd numbers are\n",
    "   both prime then they are known as twin primes"
   ]
  },
  {
   "cell_type": "code",
   "execution_count": 2,
   "metadata": {},
   "outputs": [
    {
     "name": "stdout",
     "output_type": "stream",
     "text": [
      "3 5\n",
      "5 7\n",
      "11 13\n",
      "17 19\n",
      "29 31\n",
      "41 43\n",
      "59 61\n",
      "71 73\n"
     ]
    }
   ],
   "source": [
    "\n",
    "primes = []\n",
    "\n",
    "num = 100\n",
    "for num in range(2,num+1):\n",
    "    isPrime = True\n",
    "    for i in range(2,num):\n",
    "        if num % i == 0:\n",
    "            isPrime = False\n",
    "    if isPrime == True:\n",
    "        primes.append(num)\n",
    "#print (primes)\n",
    "\n",
    "for j in range(0,len(primes)):\n",
    "    if primes[j] - primes[j-1] == 2:\n",
    "        print(primes[j-1],primes[j])"
   ]
  },
  {
   "cell_type": "markdown",
   "metadata": {},
   "source": [
    "3 .Write a program to find out the prime factors of a number. Example: prime factors of 56 -\n",
    "2, 2, 2, 7"
   ]
  },
  {
   "cell_type": "code",
   "execution_count": 3,
   "metadata": {},
   "outputs": [
    {
     "name": "stdout",
     "output_type": "stream",
     "text": [
      "[2, 3, 9, 27]\n"
     ]
    }
   ],
   "source": [
    "\n",
    "\n",
    "\n",
    "def isprime(n):\n",
    "    isprime_status=True\n",
    "    for i in range(2,n):\n",
    "        if n % i == 0:\n",
    "            isprime_status = False\n",
    "            break\n",
    "        else:\n",
    "            isprime_status = True\n",
    "            break\n",
    "    return isprime_status\n",
    "    \n",
    "def fact(num):\n",
    "    facts = []\n",
    "    for i in range(2,num):\n",
    "        if num % i == 0:\n",
    "            facts.append(i)\n",
    "    return facts\n",
    "\n",
    "def primefact(final_num):\n",
    "    new_lst = fact(final_num)\n",
    "    #print(new_lst)\n",
    "    \n",
    "    final_lst = []\n",
    "    \n",
    "    for k in new_lst:\n",
    "        if isprime(k) == True:\n",
    "            final_lst.append(k)\n",
    "            \n",
    "    print(final_lst)\n",
    "    \n",
    "primefact(108)\n",
    "    \n"
   ]
  },
  {
   "cell_type": "markdown",
   "metadata": {},
   "source": [
    " 4. Write a program to implement these formulae of permutations and combinations.\n",
    "Number of permutations of n objects taken r at a time: p(n, r) = n! / (n-r)!. Number of\n",
    "combinations of n objects taken r at a time is: c(n, r) = n! / (r!*(n-r)!) = p(n,r) / r!"
   ]
  },
  {
   "cell_type": "code",
   "execution_count": 134,
   "metadata": {},
   "outputs": [
    {
     "name": "stdout",
     "output_type": "stream",
     "text": [
      "Permutation is  657720.0\n",
      "Combination is  27405.0\n"
     ]
    }
   ],
   "source": [
    "\n",
    "\n",
    "def get_factorial(a):\n",
    "    fact = 1\n",
    "    for i in range(1,a+1):\n",
    "        fact = fact * i \n",
    "    return fact\n",
    "\n",
    "#get_factorial(4)\n",
    "\n",
    "def permutation(n,r):\n",
    "    \n",
    "    per = (get_factorial(n))/(get_factorial(n-r))  \n",
    "    return per\n",
    "\n",
    "def combination(n,r):\n",
    "     \n",
    "    comb = (permutation(n,r))/(get_factorial(r))\n",
    "    return comb\n",
    "\n",
    "print(\"Permutation is \" , permutation(30,4))\n",
    "\n",
    "print(\"Combination is \" , combination(30,4))"
   ]
  },
  {
   "cell_type": "markdown",
   "metadata": {},
   "source": [
    "5. Write a function that converts a decimal number to binary number"
   ]
  },
  {
   "cell_type": "code",
   "execution_count": 23,
   "metadata": {},
   "outputs": [
    {
     "name": "stdout",
     "output_type": "stream",
     "text": [
      "Enter a number : 17\n",
      "10001\n"
     ]
    }
   ],
   "source": [
    "\n",
    "def to_string(a):\n",
    "    return str(a)\n",
    "        \n",
    "\n",
    "def get_binary(num):\n",
    "    binary = []\n",
    "    while num != 1:\n",
    "        binary.append(num % 2)\n",
    "        num = int(num / 2)\n",
    "    binary.append(1)\n",
    "    binary.reverse()\n",
    "    return binary\n",
    "\n",
    "num = int(input(\"Enter a number : \"))\n",
    "#get_binary(num)\n",
    "\n",
    "final_lst = list(map(to_string , get_binary(num)))\n",
    "#print(final_lst)\n",
    "\n",
    "Bin_number = ''.join(final_lst)\n",
    "print(Bin_number)"
   ]
  },
  {
   "cell_type": "markdown",
   "metadata": {},
   "source": [
    "6. Write a function cubesum() that accepts an integer and returns the sum of the cubes of\n",
    "individual digits of that number. Use this function to make functions PrintArmstrong() and\n",
    "isArmstrong() to print Armstrong numbers and to find whether is an Armstrong number."
   ]
  },
  {
   "cell_type": "code",
   "execution_count": 27,
   "metadata": {},
   "outputs": [
    {
     "name": "stdout",
     "output_type": "stream",
     "text": [
      "Armstrong\n"
     ]
    }
   ],
   "source": [
    "\n",
    "\n",
    "def cubesum(a):\n",
    "    sum1 = 0\n",
    "    string_a = str(a)\n",
    "    \n",
    "    for i in range(len(string_a)):\n",
    "        sum1 += (int(string_a[i])*int(string_a[i])*int(string_a[i]))\n",
    "    return sum1\n",
    "    \n",
    "def isArm(b):\n",
    "    if b== cubesum(b):\n",
    "        print(\"Armstrong\")\n",
    "    else:\n",
    "        print(\"Not Armstrong\")\n",
    "\n",
    "\n",
    "    \n",
    "    \n",
    "#cubesum(123)\n",
    "isArm(153)\n"
   ]
  },
  {
   "cell_type": "markdown",
   "metadata": {},
   "source": [
    "7. Write a function prodDigits() that inputs a number and returns the product of digits of that\n",
    "number."
   ]
  },
  {
   "cell_type": "code",
   "execution_count": 51,
   "metadata": {},
   "outputs": [
    {
     "data": {
      "text/plain": [
       "27"
      ]
     },
     "execution_count": 51,
     "metadata": {},
     "output_type": "execute_result"
    }
   ],
   "source": [
    "\n",
    "\n",
    "def prodDigits(num1):\n",
    "    str_num1 = str(num1)\n",
    "    prod =1\n",
    "    for i in range(len(str_num1)):\n",
    "        prod *= int(str_num1[i])\n",
    "    return prod\n",
    "    \n",
    "prodDigits(333)    "
   ]
  },
  {
   "cell_type": "markdown",
   "metadata": {},
   "source": [
    "8. If all digits of a number n are multiplied by each other repeating with the product, the one\n",
    "digit number obtained at last is called the multiplicative digital root of n. The number of\n",
    "times digits need to be multiplied to reach one digit is called the multiplicative\n",
    "persistance of n.\n",
    "Example: 86 -> 48 -> 32 -> 6 (MDR 6, MPersistence 3)\n",
    " 341 -> 12->2 (MDR 2, MPersistence 2)\n",
    "Using the function prodDigits() of previous exercise write functions MDR() and\n",
    "MPersistence() that input a number and return its multiplicative digital root and\n",
    "multiplicative persistence respectively"
   ]
  },
  {
   "cell_type": "code",
   "execution_count": 35,
   "metadata": {},
   "outputs": [
    {
     "name": "stdout",
     "output_type": "stream",
     "text": [
      "MDR : 2 , MPersistence : 2\n"
     ]
    }
   ],
   "source": [
    "def prodDigits(num1):\n",
    "    str_num1 = str(num1)\n",
    "    prod =1\n",
    "    for i in range(len(str_num1)):\n",
    "        prod *= int(str_num1[i])\n",
    "    return prod\n",
    "\n",
    "def MDR(x):  \n",
    "    while True:\n",
    "        \n",
    "        x = prodDigits(x)\n",
    "        if len(str(x)) == 1:\n",
    "            return x\n",
    "\n",
    "def MPersistence(x):\n",
    "    cnt = 0\n",
    "    while True:\n",
    "        cnt +=1 \n",
    "        x = prodDigits(x)\n",
    "        if len(str(x)) == 1:\n",
    "            return cnt\n",
    "        \n",
    "num = 341\n",
    "\n",
    "print(\"MDR : {} , MPersistence : {}\".format(MDR(num),MPersistence(num)))"
   ]
  },
  {
   "cell_type": "markdown",
   "metadata": {},
   "source": [
    "9. Write a function sumPdivisors() that finds the sum of proper divisors of a number. Proper\n",
    "divisors of a number are those numbers by which the number is divisible, except the\n",
    "number itself. For example proper divisors of 36 are 1, 2, 3, 4, 6, 9, 18"
   ]
  },
  {
   "cell_type": "code",
   "execution_count": 9,
   "metadata": {},
   "outputs": [
    {
     "name": "stdout",
     "output_type": "stream",
     "text": [
      "[1, 2, 3, 4, 6, 9, 12, 18]\n"
     ]
    }
   ],
   "source": [
    "def sumPdivisors(x):\n",
    "    pdiv = []\n",
    "    for i in range(1,x):\n",
    "        if x%i == 0:\n",
    "            pdiv.append(i)\n",
    "    return pdiv\n",
    "\n",
    "print (sumPdivisors(36))"
   ]
  },
  {
   "cell_type": "markdown",
   "metadata": {},
   "source": [
    "10. A number is called perfect if the sum of proper divisors of that number is equal to the\n",
    "number. For example 28 is perfect number, since 1+2+4+7+14=28. Write a program to\n",
    "print all the perfect numbers in a given range"
   ]
  },
  {
   "cell_type": "code",
   "execution_count": 22,
   "metadata": {},
   "outputs": [
    {
     "name": "stdout",
     "output_type": "stream",
     "text": [
      "[6, 28, 496, 8128]\n"
     ]
    }
   ],
   "source": [
    "def perfect_num(x):\n",
    "    pdiv = []\n",
    "    for i in range(1,x):\n",
    "        if x%i == 0:\n",
    "            pdiv.append(i)\n",
    "    if sum(pdiv) == x:\n",
    "        return (\"perfect\")\n",
    "\n",
    "r = 10000 \n",
    "p_num = [] \n",
    "\n",
    "for j in range(1,r):\n",
    "    if perfect_num(j) == \"perfect\":\n",
    "        p_num.append(j)\n",
    "        \n",
    "print (p_num)"
   ]
  },
  {
   "cell_type": "markdown",
   "metadata": {},
   "source": [
    "11. Two different numbers are called amicable numbers if the sum of the proper divisors of\n",
    "each is equal to the other number. For example 220 and 284 are amicable numbers.\n",
    "Sum of proper divisors of 220 = 1+2+4+5+10+11+20+22+44+55+110 = 284\n",
    "Sum of proper divisors of 284 = 1+2+4+71+142 = 220\n",
    "Write a function to print pairs of amicable numbers in a range\n"
   ]
  },
  {
   "cell_type": "code",
   "execution_count": 71,
   "metadata": {},
   "outputs": [
    {
     "name": "stdout",
     "output_type": "stream",
     "text": [
      "284 220\n",
      "1210 1184\n"
     ]
    }
   ],
   "source": [
    "\n",
    "\n",
    "def propDivisor(num1):\n",
    "    lst = []\n",
    "    for i in range(1,num1):\n",
    "        if num1%i==0:\n",
    "            lst.append(i)\n",
    "    return sum(lst)\n",
    "\n",
    "\n",
    "\n",
    "def getAmicable(r):\n",
    "    \n",
    "    for i in range(1,r):\n",
    "        #print (\"i : \" , i)\n",
    "        for j in range(1,i+1):\n",
    "            if propDivisor(i) == j and propDivisor(j) == i:\n",
    "                if i!= j:\n",
    "                    print(i,j)\n",
    "            #print (\"j : \" , j)\n",
    "getAmicable(2000)\n"
   ]
  },
  {
   "cell_type": "markdown",
   "metadata": {},
   "source": [
    "12. Write a program which can filter odd numbers in a list by using filter function"
   ]
  },
  {
   "cell_type": "code",
   "execution_count": 4,
   "metadata": {},
   "outputs": [
    {
     "name": "stdout",
     "output_type": "stream",
     "text": [
      "3\n",
      "5\n",
      "7\n",
      "9\n"
     ]
    }
   ],
   "source": [
    "def odd_num(x):\n",
    "    \n",
    "    if(x%2) == 0:\n",
    "        return False\n",
    "    else:\n",
    "        return True\n",
    "    \n",
    "lst = [3,4,5,6,7,8,9]\n",
    "\n",
    "odd_numbers = filter(odd_num,lst)\n",
    "\n",
    "for num in odd_numbers:\n",
    "    print (num)"
   ]
  },
  {
   "cell_type": "markdown",
   "metadata": {},
   "source": [
    "13. Write a program which can map() to make a list whose elements are cube of elements in\n",
    "a given list"
   ]
  },
  {
   "cell_type": "code",
   "execution_count": 5,
   "metadata": {},
   "outputs": [
    {
     "name": "stdout",
     "output_type": "stream",
     "text": [
      "27\n",
      "64\n",
      "125\n",
      "216\n",
      "343\n",
      "512\n",
      "729\n"
     ]
    }
   ],
   "source": [
    "def cube_num(x):\n",
    "    return x**3\n",
    "    \n",
    "lst = [3,4,5,6,7,8,9]\n",
    "\n",
    "cube_numbers = map(cube_num,lst)\n",
    "\n",
    "for num in cube_numbers:\n",
    "    print (num)"
   ]
  },
  {
   "cell_type": "markdown",
   "metadata": {},
   "source": [
    "14. Write a program which can map() and filter() to make a list whose elements are cube of\n",
    "even number in a given list"
   ]
  },
  {
   "cell_type": "code",
   "execution_count": 6,
   "metadata": {},
   "outputs": [
    {
     "name": "stdout",
     "output_type": "stream",
     "text": [
      "64\n",
      "216\n",
      "512\n"
     ]
    }
   ],
   "source": [
    "def odd_num(x):\n",
    "    \n",
    "    if(x%2) == 0:\n",
    "        return True\n",
    "    else:\n",
    "        return False\n",
    "    \n",
    "def cube_num(x):\n",
    "    return x**3\n",
    "\n",
    "lst = [3,4,5,6,7,8,9]\n",
    "\n",
    "cube_even_numbers = map(cube_num,filter(odd_num,lst))\n",
    "\n",
    "for num in cube_even_numbers:\n",
    "    print (num)"
   ]
  }
 ],
 "metadata": {
  "kernelspec": {
   "display_name": "Python 3",
   "language": "python",
   "name": "python3"
  },
  "language_info": {
   "codemirror_mode": {
    "name": "ipython",
    "version": 3
   },
   "file_extension": ".py",
   "mimetype": "text/x-python",
   "name": "python",
   "nbconvert_exporter": "python",
   "pygments_lexer": "ipython3",
   "version": "3.8.5"
  }
 },
 "nbformat": 4,
 "nbformat_minor": 4
}
