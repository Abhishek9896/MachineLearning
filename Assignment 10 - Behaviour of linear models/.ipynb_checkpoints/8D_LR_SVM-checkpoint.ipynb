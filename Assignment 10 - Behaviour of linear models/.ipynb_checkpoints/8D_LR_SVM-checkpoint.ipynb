{
 "cells": [
  {
   "cell_type": "markdown",
   "metadata": {
    "colab_type": "text",
    "id": "86Tvnj5UblTy"
   },
   "source": [
    "## Task-D: Collinear features and their effect on linear models"
   ]
  },
  {
   "cell_type": "code",
   "execution_count": 316,
   "metadata": {
    "colab": {},
    "colab_type": "code",
    "id": "qn_eOn2EblT3"
   },
   "outputs": [],
   "source": [
    "%matplotlib inline\n",
    "import warnings\n",
    "warnings.filterwarnings(\"ignore\")\n",
    "import pandas as pd\n",
    "import numpy as np\n",
    "from sklearn.datasets import load_iris\n",
    "from sklearn.linear_model import SGDClassifier\n",
    "from sklearn.model_selection import GridSearchCV\n",
    "import seaborn as sns\n",
    "import matplotlib.pyplot as plt\n",
    "from sklearn.metrics import accuracy_score"
   ]
  },
  {
   "cell_type": "code",
   "execution_count": 317,
   "metadata": {
    "colab": {},
    "colab_type": "code",
    "id": "VMoYWIayblUB"
   },
   "outputs": [],
   "source": [
    "data = pd.read_csv('task_d.csv')"
   ]
  },
  {
   "cell_type": "code",
   "execution_count": 318,
   "metadata": {
    "colab": {},
    "colab_type": "code",
    "id": "RfStXG4tblUI",
    "outputId": "ddf4eec6-7f53-4d28-914f-23133957d6d5"
   },
   "outputs": [
    {
     "data": {
      "text/html": [
       "<div>\n",
       "<style scoped>\n",
       "    .dataframe tbody tr th:only-of-type {\n",
       "        vertical-align: middle;\n",
       "    }\n",
       "\n",
       "    .dataframe tbody tr th {\n",
       "        vertical-align: top;\n",
       "    }\n",
       "\n",
       "    .dataframe thead th {\n",
       "        text-align: right;\n",
       "    }\n",
       "</style>\n",
       "<table border=\"1\" class=\"dataframe\">\n",
       "  <thead>\n",
       "    <tr style=\"text-align: right;\">\n",
       "      <th></th>\n",
       "      <th>x</th>\n",
       "      <th>y</th>\n",
       "      <th>z</th>\n",
       "      <th>x*x</th>\n",
       "      <th>2*y</th>\n",
       "      <th>2*z+3*x*x</th>\n",
       "      <th>w</th>\n",
       "      <th>target</th>\n",
       "    </tr>\n",
       "  </thead>\n",
       "  <tbody>\n",
       "    <tr>\n",
       "      <th>0</th>\n",
       "      <td>-0.581066</td>\n",
       "      <td>0.841837</td>\n",
       "      <td>-1.012978</td>\n",
       "      <td>-0.604025</td>\n",
       "      <td>0.841837</td>\n",
       "      <td>-0.665927</td>\n",
       "      <td>-0.536277</td>\n",
       "      <td>0</td>\n",
       "    </tr>\n",
       "    <tr>\n",
       "      <th>1</th>\n",
       "      <td>-0.894309</td>\n",
       "      <td>-0.207835</td>\n",
       "      <td>-1.012978</td>\n",
       "      <td>-0.883052</td>\n",
       "      <td>-0.207835</td>\n",
       "      <td>-0.917054</td>\n",
       "      <td>-0.522364</td>\n",
       "      <td>0</td>\n",
       "    </tr>\n",
       "    <tr>\n",
       "      <th>2</th>\n",
       "      <td>-1.207552</td>\n",
       "      <td>0.212034</td>\n",
       "      <td>-1.082312</td>\n",
       "      <td>-1.150918</td>\n",
       "      <td>0.212034</td>\n",
       "      <td>-1.166507</td>\n",
       "      <td>0.205738</td>\n",
       "      <td>0</td>\n",
       "    </tr>\n",
       "    <tr>\n",
       "      <th>3</th>\n",
       "      <td>-1.364174</td>\n",
       "      <td>0.002099</td>\n",
       "      <td>-0.943643</td>\n",
       "      <td>-1.280666</td>\n",
       "      <td>0.002099</td>\n",
       "      <td>-1.266540</td>\n",
       "      <td>-0.665720</td>\n",
       "      <td>0</td>\n",
       "    </tr>\n",
       "    <tr>\n",
       "      <th>4</th>\n",
       "      <td>-0.737687</td>\n",
       "      <td>1.051772</td>\n",
       "      <td>-1.012978</td>\n",
       "      <td>-0.744934</td>\n",
       "      <td>1.051772</td>\n",
       "      <td>-0.792746</td>\n",
       "      <td>-0.735054</td>\n",
       "      <td>0</td>\n",
       "    </tr>\n",
       "  </tbody>\n",
       "</table>\n",
       "</div>"
      ],
      "text/plain": [
       "          x         y         z       x*x       2*y  2*z+3*x*x         w  \\\n",
       "0 -0.581066  0.841837 -1.012978 -0.604025  0.841837  -0.665927 -0.536277   \n",
       "1 -0.894309 -0.207835 -1.012978 -0.883052 -0.207835  -0.917054 -0.522364   \n",
       "2 -1.207552  0.212034 -1.082312 -1.150918  0.212034  -1.166507  0.205738   \n",
       "3 -1.364174  0.002099 -0.943643 -1.280666  0.002099  -1.266540 -0.665720   \n",
       "4 -0.737687  1.051772 -1.012978 -0.744934  1.051772  -0.792746 -0.735054   \n",
       "\n",
       "   target  \n",
       "0       0  \n",
       "1       0  \n",
       "2       0  \n",
       "3       0  \n",
       "4       0  "
      ]
     },
     "execution_count": 318,
     "metadata": {},
     "output_type": "execute_result"
    }
   ],
   "source": [
    "data.head()"
   ]
  },
  {
   "cell_type": "code",
   "execution_count": 319,
   "metadata": {
    "colab": {},
    "colab_type": "code",
    "id": "JIIuomCkblUP"
   },
   "outputs": [
    {
     "name": "stdout",
     "output_type": "stream",
     "text": [
      "['x', 'y', 'z', 'x*x', '2*y', '2*z+3*x*x', 'w', 'target']\n"
     ]
    }
   ],
   "source": [
    "X = data.drop(['target'], axis=1).values\n",
    "Y = data['target'].values\n",
    "\n",
    "feature_lst = list(data.columns.values)\n",
    "print(feature_lst)"
   ]
  },
  {
   "cell_type": "markdown",
   "metadata": {
    "colab_type": "text",
    "id": "Ydm98u3EblUU"
   },
   "source": [
    "### Doing perturbation test to check the presence of collinearity  \n",
    "\n",
    "#### Task: 1 Logistic Regression\n",
    "<pre>\n",
    "\n",
    "\n",
    "1. <b>Finding the Correlation between the features</b>\n",
    "    a. check the correlation between the features\n",
    "    b. plot heat map of correlation matrix using seaborn heatmap\n",
    "2. <b>Finding the best model for the given data</b>\n",
    "    a. Train Logistic regression on data(X,Y) that we have created in the above cell\n",
    "    b. Find the best hyper prameter alpha with hyper parameter tuning using k-fold cross validation (grid search CV or         \n",
    "    random search CV make sure you choose the alpha in log space)\n",
    "    c. Creat a new Logistic regression with the best alpha\n",
    "    (search for how to get the best hyper parameter value), name the best model as 'best_model'\n",
    "    \n",
    "3. <b>Getting the weights with the original data</b>\n",
    "    a. train the 'best_model' with X, Y\n",
    "    b. Check the accuracy of the model 'best_model_accuracy'\n",
    "    c. Get the weights W using best_model.coef_\n",
    "\n",
    "4. <b>Modifying original data</b>\n",
    "    a. Add a noise(order of 10^-2) to each element of X \n",
    "    and get the new data set X' (X' = X + e)\n",
    "    b. Train the same 'best_model' with data (X', Y)\n",
    "    c. Check the accuracy of the model 'best_model_accuracy_edited'\n",
    "    d. Get the weights W' using best_model.coef_\n",
    "    \n",
    "5. <b> Checking deviations in metric and weights </b>\n",
    "    a. find the difference between 'best_model_accuracy_edited' and 'best_model_accuracy'\n",
    "    b. find the absolute change between each value of W and W' ==> |(W-W')|\n",
    "    c. print the top 4 features which have higher % change in weights \n",
    "    compare to the other feature\n",
    "\n",
    "</pre>\n",
    "\n",
    "#### Task: 2 Linear SVM\n",
    "\n",
    "<pre>\n",
    "1. Do the same steps (2, 3, 4, 5) we have done in the above task 1.\n",
    "</pre>\n",
    "\n",
    "<strong><font color='red'>Do write the observations based on the results you get from the deviations of weights in both Logistic Regression and linear SVM</font></strong>"
   ]
  },
  {
   "cell_type": "code",
   "execution_count": 320,
   "metadata": {
    "colab": {},
    "colab_type": "code",
    "id": "Lai8wXU1pmSb"
   },
   "outputs": [
    {
     "data": {
      "text/plain": [
       "<AxesSubplot:>"
      ]
     },
     "execution_count": 320,
     "metadata": {},
     "output_type": "execute_result"
    },
    {
     "data": {
      "image/png": "[encoded data removed]",
      "text/plain": [
       "<Figure size 432x288 with 2 Axes>"
      ]
     },
     "metadata": {
      "needs_background": "light"
     },
     "output_type": "display_data"
    }
   ],
   "source": [
    "df = pd.DataFrame(X)\n",
    "#https://heartbeat.fritz.ai/seaborn-heatmaps-13-ways-to-customize-correlation-matrix-visualizations-f1c49c816f07\n",
    "sns.heatmap(df.corr() , annot = True)"
   ]
  },
  {
   "cell_type": "markdown",
   "metadata": {},
   "source": [
    "Logistic Regression"
   ]
  },
  {
   "cell_type": "code",
   "execution_count": 321,
   "metadata": {},
   "outputs": [
    {
     "data": {
      "text/plain": [
       "{'alpha': 0.0001}"
      ]
     },
     "execution_count": 321,
     "metadata": {},
     "output_type": "execute_result"
    }
   ],
   "source": [
    "log_res = SGDClassifier(loss = 'log')\n",
    "params = {'alpha':[0.0001,0.001,0.01,0.1,1,10,100,1000]}\n",
    "clf = GridSearchCV(log_res , params ,cv =3)\n",
    "clf.fit(X,Y)\n",
    "\n",
    "clf.best_params_"
   ]
  },
  {
   "cell_type": "code",
   "execution_count": 322,
   "metadata": {},
   "outputs": [
    {
     "name": "stdout",
     "output_type": "stream",
     "text": [
      "1.0 [[  6.98723076 -11.06945882  17.99357874   6.48311605 -11.06945882\n",
      "    8.00726825   1.36777686]]\n"
     ]
    }
   ],
   "source": [
    "best_model = SGDClassifier(loss = 'log' , alpha = 0.0001)\n",
    "best_model.fit(X,Y)\n",
    "\n",
    "best_model_accuracy = accuracy_score(Y , best_model.predict(X) ) \n",
    "w = best_model.coef_\n",
    "print(best_model_accuracy , w)"
   ]
  },
  {
   "cell_type": "code",
   "execution_count": 323,
   "metadata": {},
   "outputs": [
    {
     "name": "stdout",
     "output_type": "stream",
     "text": [
      "1.0 [[ 3.18915299 -2.74640032  5.70732449  3.12942582 -2.74640032  3.50515689\n",
      "   5.48731939]]\n"
     ]
    }
   ],
   "source": [
    "X_new= X + 0.01\n",
    "\n",
    "best_model.fit (X_new , Y)\n",
    "\n",
    "best_model_accuracy_edited = accuracy_score(Y ,best_model.predict(X_new)) \n",
    "w_dash = best_model.coef_\n",
    "print(best_model_accuracy_edited  , w_dash)"
   ]
  },
  {
   "cell_type": "code",
   "execution_count": 324,
   "metadata": {},
   "outputs": [
    {
     "name": "stdout",
     "output_type": "stream",
     "text": [
      "Accuracy Difference :  0.0 \n",
      "\n",
      "Difference in weights (w' - w) : \n",
      " [[ -3.79807777   8.3230585  -12.28625425  -3.35369023   8.3230585\n",
      "   -4.50211136   4.11954253]]\n",
      "\n",
      "Percentage difference in weights : \n",
      " [119.09362078 303.05336202 215.27169648 107.16631185 303.05336202\n",
      " 128.44250609  75.07386101]\n",
      "\n",
      "Top 4 features by percentage change :  ['2*y', 'y', 'z', '2*z+3*x*x']\n"
     ]
    }
   ],
   "source": [
    "acc_diff = best_model_accuracy_edited - best_model_accuracy\n",
    "w_diff = w_dash - w\n",
    "w_per = np.absolute(((w_dash - w)/w_dash)*100).flatten()\n",
    "\n",
    "print(\"Accuracy Difference : \" , acc_diff,\"\\n\")\n",
    "print(\"Difference in weights (w' - w) : \\n\",w_diff)\n",
    "print(\"\\nPercentage difference in weights : \\n\",w_per)\n",
    "\n",
    "idx_top_4 = w_per.argsort()[-4:][::-1]\n",
    "\n",
    "features = []\n",
    "for i in idx_top_4:\n",
    "    features.append(feature_lst[i])\n",
    "    \n",
    "print(\"\\nTop 4 features by percentage change : \",features)"
   ]
  },
  {
   "cell_type": "markdown",
   "metadata": {},
   "source": [
    "Observations :\n",
    "    \n",
    "1. By adding a small noise in the data , the weights change by a significant percentage."
   ]
  },
  {
   "cell_type": "markdown",
   "metadata": {},
   "source": [
    "Linear SVM"
   ]
  },
  {
   "cell_type": "code",
   "execution_count": 326,
   "metadata": {},
   "outputs": [
    {
     "data": {
      "text/plain": [
       "{'alpha': 0.001}"
      ]
     },
     "execution_count": 326,
     "metadata": {},
     "output_type": "execute_result"
    }
   ],
   "source": [
    "lr_svm = SGDClassifier(loss = 'hinge')\n",
    "params = {'alpha':[0.0001,0.001,0.01,0.1,1,10,100,1000]}\n",
    "clf = GridSearchCV(lr_svm , params ,cv =3)\n",
    "clf.fit(X,Y)\n",
    "\n",
    "clf.best_params_"
   ]
  },
  {
   "cell_type": "code",
   "execution_count": 327,
   "metadata": {},
   "outputs": [
    {
     "name": "stdout",
     "output_type": "stream",
     "text": [
      "1.0 [[ 2.78294456 -2.86831039  6.70391776  2.19749391 -2.86831039  2.7871434\n",
      "   1.16471531]]\n"
     ]
    }
   ],
   "source": [
    "best_model = SGDClassifier(loss = 'hinge' , alpha = 0.001)\n",
    "best_model.fit(X,Y)\n",
    "\n",
    "best_model_accuracy = accuracy_score(Y , best_model.predict(X) ) \n",
    "w = best_model.coef_\n",
    "print(best_model_accuracy , w)"
   ]
  },
  {
   "cell_type": "code",
   "execution_count": 381,
   "metadata": {},
   "outputs": [
    {
     "name": "stdout",
     "output_type": "stream",
     "text": [
      "1.0 [[ 2.56392579 -1.66217536  4.86577501  2.30428622 -1.66217536  2.66109795\n",
      "   1.31261022]]\n"
     ]
    }
   ],
   "source": [
    "X_new= X + 0.01\n",
    "\n",
    "best_model.fit (X_new , Y)\n",
    "\n",
    "best_model_accuracy_edited = accuracy_score(Y ,best_model.predict(X_new)) \n",
    "w_dash = best_model.coef_\n",
    "print(best_model_accuracy_edited  , w_dash)"
   ]
  },
  {
   "cell_type": "code",
   "execution_count": 382,
   "metadata": {},
   "outputs": [
    {
     "name": "stdout",
     "output_type": "stream",
     "text": [
      "Accuracy Difference :  0.0 \n",
      "\n",
      "Difference in weights (w' - w) : \n",
      " [[-0.21901878  1.20613503 -1.83814275  0.10679231  1.20613503 -0.12604545\n",
      "   0.14789491]]\n",
      "\n",
      "Percentage difference in weights : \n",
      " [ 8.54232123 72.56364553 37.77697779  4.63450703 72.56364553  4.73659561\n",
      " 11.26723752]\n",
      "\n",
      "Top 4 features by percentage change :  ['2*y', 'y', 'z', 'w']\n"
     ]
    }
   ],
   "source": [
    "acc_diff = best_model_accuracy_edited - best_model_accuracy\n",
    "w_diff = w_dash - w\n",
    "w_per = np.absolute(((w_dash - w)/w_dash)*100).flatten()\n",
    "\n",
    "print(\"Accuracy Difference : \" , acc_diff,\"\\n\")\n",
    "print(\"Difference in weights (w' - w) : \\n\",w_diff)\n",
    "print(\"\\nPercentage difference in weights : \\n\",w_per)\n",
    "\n",
    "idx_top_4 = w_per.argsort()[-4:][::-1]\n",
    "\n",
    "features = []\n",
    "for i in idx_top_4:\n",
    "    features.append(feature_lst[i])\n",
    "    \n",
    "print(\"\\nTop 4 features by percentage change : \",features)"
   ]
  },
  {
   "cell_type": "markdown",
   "metadata": {},
   "source": [
    "Observations :\n",
    "    \n",
    "1. By adding a small noise in the data , the weights change by a lower percentage as compared to logistic regression."
   ]
  }
 ],
 "metadata": {
  "colab": {
   "name": "8D_LR_SVM.ipynb",
   "provenance": []
  },
  "kernelspec": {
   "display_name": "Python 3",
   "language": "python",
   "name": "python3"
  },
  "language_info": {
   "codemirror_mode": {
    "name": "ipython",
    "version": 3
   },
   "file_extension": ".py",
   "mimetype": "text/x-python",
   "name": "python",
   "nbconvert_exporter": "python",
   "pygments_lexer": "ipython3",
   "version": "3.8.5"
  }
 },
 "nbformat": 4,
 "nbformat_minor": 1
}
