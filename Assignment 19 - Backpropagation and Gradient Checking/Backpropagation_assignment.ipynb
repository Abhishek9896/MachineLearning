{
 "cells": [
  {
   "cell_type": "markdown",
   "metadata": {
    "id": "y871RZtRhCEH"
   },
   "source": [
    "# <font color='red'>BackPropagation</font>"
   ]
  },
  {
   "cell_type": "markdown",
   "metadata": {
    "id": "LqePYi-4mFvK"
   },
   "source": [
    "**There will be some functions that start with the word \"grader\" ex: grader_sigmoid(), grader_forwardprop(), grader_backprop() etc, you should not change those function definition.<br><br>Every Grader function has to return True.**"
   ]
  },
  {
   "cell_type": "markdown",
   "metadata": {
    "id": "0huUQ0byiI0I"
   },
   "source": [
    "## <font color='red'>Loading data </font>"
   ]
  },
  {
   "cell_type": "code",
   "execution_count": 546,
   "metadata": {
    "colab": {
     "base_uri": "https://localhost:8080/",
     "height": 50
    },
    "id": "1hSje5CBgcUb",
    "outputId": "66535fa5-f8a2-4792-bc62-7842c93480f7"
   },
   "outputs": [
    {
     "name": "stdout",
     "output_type": "stream",
     "text": [
      "(506, 6)\n",
      "(506, 5) (506,)\n"
     ]
    }
   ],
   "source": [
    "import pickle\n",
    "import numpy as np\n",
    "from tqdm import tqdm\n",
    "import matplotlib.pyplot as plt\n",
    "import decimal \n",
    "\n",
    "with open('data.pkl', 'rb') as f:\n",
    "    data = pickle.load(f)\n",
    "print(data.shape)\n",
    "X = data[:, :5]\n",
    "y = data[:, -1]\n",
    "print(X.shape, y.shape)"
   ]
  },
  {
   "cell_type": "markdown",
   "metadata": {
    "id": "5JL-0soQistC"
   },
   "source": [
    "# <font color='red'>Computational graph</font>"
   ]
  },
  {
   "cell_type": "markdown",
   "metadata": {
    "id": "nREnTTJ3i0Vd"
   },
   "source": [
    "<img src='https://i.imgur.com/seSGbNS.png'>"
   ]
  },
  {
   "cell_type": "markdown",
   "metadata": {
    "id": "DSPX_H_4i_HT"
   },
   "source": [
    "\n",
    "*  **If you observe the graph, we are having input features [f1, f2, f3, f4, f5] and 9 weights [w1, w2, w3, w4, w5, w6,    w7, w8, w9]**.<br><br>\n",
    "*  **The final output of this graph is a value L which is computed as (Y-Y')^2** "
   ]
  },
  {
   "cell_type": "markdown",
   "metadata": {
    "id": "D54eDEv6jkO4"
   },
   "source": [
    "# <font color='red'>Task 1: Implementing backpropagation and Gradient checking </font>"
   ]
  },
  {
   "cell_type": "markdown",
   "metadata": {
    "id": "qocI1Vzqkod9"
   },
   "source": [
    "<font color='blue'><b>Check this video for better understanding of the computational graphs and back propagation</font>"
   ]
  },
  {
   "cell_type": "code",
   "execution_count": 547,
   "metadata": {
    "colab": {
     "base_uri": "https://localhost:8080/",
     "height": 521
    },
    "id": "Wb5WMdwJinlX",
    "outputId": "b10489ec-890a-445a-c6a4-a3e0ea2a66be"
   },
   "outputs": [
    {
     "data": {
      "image/jpeg": "[encoded data removed]",
      "text/html": [
       "\n",
       "        <iframe\n",
       "            width=\"1000\"\n",
       "            height=\"500\"\n",
       "            src=\"https://www.youtube.com/embed/i94OvYb6noo\"\n",
       "            frameborder=\"0\"\n",
       "            allowfullscreen\n",
       "        ></iframe>\n",
       "        "
      ],
      "text/plain": [
       "<IPython.lib.display.YouTubeVideo at 0x1a34ae7d880>"
      ]
     },
     "execution_count": 547,
     "metadata": {},
     "output_type": "execute_result"
    }
   ],
   "source": [
    "from IPython.display import YouTubeVideo\n",
    "YouTubeVideo('i94OvYb6noo',width=\"1000\",height=\"500\")"
   ]
  },
  {
   "cell_type": "markdown",
   "metadata": {
    "id": "2jecTyVRlh-6"
   },
   "source": [
    "\n",
    "*  <b>Write two functions<br>\n",
    "    *  Forward propagation</b>(Write your code in<font color='blue'> def forward_propagation()</b></font>)<br><br>\n",
    "    For easy debugging, we will break the computational graph into 3 parts.\n",
    "\n",
    "    <font color='green'><b>Part 1</b></font></b>\n",
    "    <img src='https://i.imgur.com/0xUaxy6.png'><br><br>\n",
    "    <font color='green'><b>Part 2</b></font></b><br>\n",
    "    <img src='https://i.imgur.com/J29pAJL.png'><br><br>\n",
    "    <font color='green'><b>Part 3</b></font></b>\n",
    "    <img src='https://i.imgur.com/vMyCsd9.png'>\n",
    "\n",
    "    <pre>\n",
    "    <font color='green'>\n",
    "def forward_propagation(X, y, W):\n",
    "        <font color='grey'>\n",
    "        # X: input data point, note that in this assignment you are having 5-d data points\n",
    "        # y: output varible\n",
    "        # W: weight array, its of length 9, W[0] corresponds to w1 in graph, W[1] corresponds to w2 in graph, <br>         ..., W[8] corresponds to w9 in graph.  \n",
    "        # you have to return the following variables\n",
    "        # exp= part1 (compute the forward propagation until exp and then store the values in exp)\n",
    "        # tanh =part2(compute the forward propagation until tanh and then store the values in tanh)\n",
    "        # sig = part3(compute the forward propagation until sigmoid and then store the values in sig)\n",
    "        # now compute remaining values from computional graph and get y'\n",
    "        # write code to compute the value of L=(y-y')^2\n",
    "        # compute derivative of L  w.r.to Y' and store it in dl\n",
    "        # Create a dictionary to store all the intermediate values\n",
    "        # store L, exp,tanh,sig,dl variables\n",
    "        </font>\n",
    "        return (dictionary, which you might need to use for back propagation)\n",
    "        <font color='grey'>\n",
    "        </font>\n",
    "</font>\n",
    "</pre>\n",
    "    *  <b>Backward propagation</b>(Write your code in<font color='blue'> def backward_propagation()</b></font>)\n",
    "    </b>\n",
    "    <pre>\n",
    "    <font color='green'>\n",
    "    def backward_propagation(L, W,dictionary):\n",
    "        <font color='grey'>\n",
    "        # L: the loss we calculated for the current point\n",
    "        # dictionary: the outputs of the forward_propagation() function\n",
    "        # write code to compute the gradients of each weight [w1,w2,w3,...,w9]\n",
    "        # Hint: you can use dict type to store the required variables \n",
    "        # return dW, dW is a dictionary with gradients of all the weights\n",
    "        </font>\n",
    "        return dW\n",
    "        </font>\n",
    "</font>\n",
    "</pre>"
   ]
  },
  {
   "cell_type": "markdown",
   "metadata": {
    "id": "STS4NrQQc6OH"
   },
   "source": [
    " ## <font color='red'>Gradient clipping</font>"
   ]
  },
  {
   "cell_type": "markdown",
   "metadata": {
    "id": "XY7ivRNzdPok"
   },
   "source": [
    "<b> Check this  <a href='https://towardsdatascience.com/how-to-debug-a-neural-network-with-gradient-checking-41deec0357a9'>blog link</a> for more details on Gradient clipping"
   ]
  },
  {
   "cell_type": "markdown",
   "metadata": {
    "id": "BrsfpDoidtZ5"
   },
   "source": [
    " we know that the derivative of any function is\n",
    " \n",
    " $$\\lim_{\\epsilon\\to0}\\frac{f(x+\\epsilon)-f(x-\\epsilon)}{2\\epsilon}$$\n"
   ]
  },
  {
   "cell_type": "markdown",
   "metadata": {
    "id": "vUcmt0kPd02f"
   },
   "source": [
    "*  The definition above can be used as a numerical approximation of the derivative. Taking an epsilon small enough, the calculated approximation will have an error in the range of epsilon squared. \n",
    "\n",
    "*  In other words, if epsilon is 0.001, the approximation will be off by 0.00001.\n",
    "\n",
    "Therefore, we can use this to approximate the gradient, and in turn make sure that backpropagation is implemented properly. This forms the basis of <b>gradient checking!</b>"
   ]
  },
  {
   "cell_type": "markdown",
   "metadata": {
    "id": "pFSu16KCeU0x"
   },
   "source": [
    "## <Font color='blue'>Gradient checking example</font>"
   ]
  },
  {
   "cell_type": "markdown",
   "metadata": {
    "id": "Gz0mmT_xecfC"
   },
   "source": [
    "<font >\n",
    "lets understand the concept with a simple example:\n",
    "$f(w1,w2,x1,x2)=w_{1}^{2} . x_{1} + w_{2} . x_{2}$ \n",
    "\n",
    "from the above function , lets assume $w_{1}=1$, $w_{2}=2$, $x_{1}=3$, $x_{2}=4$ the gradient of $f$ w.r.t $w_{1}$ is\n",
    "\n",
    "\\begin{array} {lcl}\n",
    "\\frac{df}{dw_{1}} = dw_{1} &=&2.w_{1}.x_{1} \\\\& = &2.1.3\\\\& = &6\n",
    "\\end{array}\n",
    "\n",
    "\n",
    "let calculate the aproximate gradient of $w_{1}$ as mentinoned in the above formula and considering $\\epsilon=0.0001$\n",
    "\n",
    "\\begin{array} {lcl}\n",
    "dw_1^{approx} & = & \\frac{f(w1+\\epsilon,w2,x1,x2)-f(w1-\\epsilon,w2,x1,x2)}{2\\epsilon} \\\\ & = & \\frac{((1+0.0001)^{2} . 3 + 2 . 4) - ((1-0.0001)^{2} . 3 + 2 . 4)}{2\\epsilon} \\\\ & = & \\frac{(1.00020001 . 3 + 2 . 4) - (0.99980001. 3 + 2 . 4)}{2*0.0001} \\\\ & = & \\frac{(11.00060003) - (10.99940003)}{0.0002}\\\\ & = & 5.99999999999\n",
    "\\end{array}\n",
    "\n",
    "Then, we apply the following formula for gradient check: <i>gradient_check</i> = \n",
    "$\\frac{\\left\\Vert\\left (dW-dW^{approx}\\rm\\right) \\right\\Vert_2}{\\left\\Vert\\left (dW\\rm\\right) \\right\\Vert_2+\\left\\Vert\\left (dW^{approx}\\rm\\right) \\right\\Vert_2}$\n",
    "\n",
    "The equation above is basically the Euclidean distance normalized by the sum of the norm of the vectors. We use normalization in case that one of the vectors is very small.\n",
    "As a value for epsilon, we usually opt for 1e-7. Therefore, if gradient check return a value less than 1e-7, then it means that backpropagation was implemented correctly. Otherwise, there is potentially a mistake in your implementation. If the value exceeds 1e-3, then you are sure that the code is not correct.\n",
    "\n",
    "in our example: <i>gradient_check</i> $ = \\frac{(6 - 5.999999999994898)}{(6 + 5.999999999994898)} = 4.2514140356330737e^{-13}$\n",
    "\n",
    "you can mathamatically derive the same thing like this\n",
    "\n",
    "\\begin{array} {lcl}\n",
    "dw_1^{approx} & = & \\frac{f(w1+\\epsilon,w2,x1,x2)-f(w1-\\epsilon,w2,x1,x2)}{2\\epsilon} \\\\ & = & \\frac{((w_{1}+\\epsilon)^{2} . x_{1} + w_{2} . x_{2}) - ((w_{1}-\\epsilon)^{2} . x_{1} + w_{2} . x_{2})}{2\\epsilon} \\\\ & = & \\frac{4. \\epsilon.w_{1}. x_{1}}{2\\epsilon} \\\\ & = &  2.w_{1}.x_{1}\n",
    "\\end{array}\n"
   ]
  },
  {
   "cell_type": "markdown",
   "metadata": {
    "id": "f1BFQQaCermK"
   },
   "source": [
    "## <font color='red'> Implement Gradient checking </font> <br>\n",
    " (Write your code in <font color='blue'> def gradient_checking()</font>)"
   ]
  },
  {
   "cell_type": "markdown",
   "metadata": {
    "id": "GqpfA3AqfJba"
   },
   "source": [
    "**Algorithm** \n",
    "\n"
   ]
  },
  {
   "cell_type": "markdown",
   "metadata": {
    "id": "FL39KeRFfNoD"
   },
   "source": [
    "<pre>\n",
    "<font color='darkblue'>\n",
    "W = initilize_randomly\n",
    "def gradient_checking(data_point, W):<font color='grey'>\n",
    "    # compute the L value using forward_propagation()\n",
    "    # compute the gradients of W using backword_propagation()</font>\n",
    "    approx_gradients = []\n",
    "    for each wi weight value in W:<font color='grey'>\n",
    "        # add a small value to weight wi, and then find the values of L with the updated weights\n",
    "        # subtract a small value to weight wi, and then find the values of L with the updated weights\n",
    "        # compute the approximation gradients of weight wi</font>\n",
    "        approx_gradients.append(approximation gradients of weight wi)<font color='grey'>\n",
    "    # compare the gradient of weights W from backword_propagation() with the aproximation gradients of weights with <br>  gradient_check formula</font>\n",
    "    return gradient_check</font>\n",
    "<b>NOTE: you can do sanity check by checking all the return values of gradient_checking(),<br> they have to be zero. if not you have bug in your code\n",
    "</pre></b>"
   ]
  },
  {
   "cell_type": "markdown",
   "metadata": {
    "id": "0ufbFBFfhgL0"
   },
   "source": [
    "# <font color='red'> Task 2 : Optimizers </font>"
   ]
  },
  {
   "cell_type": "markdown",
   "metadata": {
    "id": "7zt05soYh1RM"
   },
   "source": [
    "* As a part of this task, you will be implementing 3 type of optimizers(methods to update weight)\n",
    "* Use the same computational graph that was mentioned above to do this task\n",
    "* Initilze the 9 weights from normal distribution with mean=0 and std=0.01"
   ]
  },
  {
   "cell_type": "markdown",
   "metadata": {
    "id": "CAyi7aSAicbr"
   },
   "source": [
    "**Check below video and <a href='https://cs231n.github.io/neural-networks-3/'>this</a> blog**"
   ]
  },
  {
   "cell_type": "code",
   "execution_count": 548,
   "metadata": {
    "colab": {
     "base_uri": "https://localhost:8080/",
     "height": 521
    },
    "id": "ZogcxiegkQpz",
    "outputId": "9b4e0235-e638-4f20-d9c1-ac3ca4fb3ce8"
   },
   "outputs": [
    {
     "data": {
      "image/jpeg": "[encoded data removed]",
      "text/html": [
       "\n",
       "        <iframe\n",
       "            width=\"1000\"\n",
       "            height=\"500\"\n",
       "            src=\"https://www.youtube.com/embed/gYpoJMlgyXA\"\n",
       "            frameborder=\"0\"\n",
       "            allowfullscreen\n",
       "        ></iframe>\n",
       "        "
      ],
      "text/plain": [
       "<IPython.lib.display.YouTubeVideo at 0x1a34ae7d6a0>"
      ]
     },
     "execution_count": 548,
     "metadata": {},
     "output_type": "execute_result"
    }
   ],
   "source": [
    "from IPython.display import YouTubeVideo\n",
    "YouTubeVideo('gYpoJMlgyXA',width=\"1000\",height=\"500\")"
   ]
  },
  {
   "cell_type": "markdown",
   "metadata": {
    "id": "jmefh7ktjbaR"
   },
   "source": [
    "<font color='blue'><b>Algorithm</b>"
   ]
  },
  {
   "cell_type": "markdown",
   "metadata": {
    "id": "nAc4NudkjdNa"
   },
   "source": [
    "<pre>\n",
    "    for each epoch(1-100):\n",
    "        for each data point in your data:\n",
    "            using the functions forward_propagation() and backword_propagation() compute the gradients of weights\n",
    "            update the weigts with help of gradients  ex: w1 = w1-learning_rate*dw1\n",
    "</pre>"
   ]
  },
  {
   "cell_type": "markdown",
   "metadata": {
    "id": "_fdmPNqtjm3X"
   },
   "source": [
    "## <font color='red'> Implement below tasks</b>"
   ]
  },
  {
   "cell_type": "markdown",
   "metadata": {
    "id": "Ll9-CRsLjx_D"
   },
   "source": [
    "\n",
    "*  <b>Task 2.1</b>: you will be implementing the above algorithm with <b>Vanilla update</b> of weights<br><br>\n",
    "*  <b>Task 2.2</b>: you will be implementing the above algorithm with <b>Momentum update</b> of weights<br><br>\n",
    "*  <b>Task 2.3</b>: you will be implementing the above algorithm with <b>Adam update</b> of weights\n"
   ]
  },
  {
   "cell_type": "markdown",
   "metadata": {
    "id": "atp082demrUR"
   },
   "source": [
    "**Note : If you get any assertion error while running grader functions, please print the variables in grader functions and check which variable is returning False .Recheck your logic for that variable .**"
   ]
  },
  {
   "cell_type": "markdown",
   "metadata": {
    "id": "phG2WDkjkuIL"
   },
   "source": [
    "<br>\n",
    "<br>\n",
    "<br>"
   ]
  },
  {
   "cell_type": "markdown",
   "metadata": {
    "id": "CBaPzHP63grG"
   },
   "source": [
    "# <font color='red'>Task 1 </font>"
   ]
  },
  {
   "cell_type": "markdown",
   "metadata": {
    "id": "QfmV3FUgSrBo"
   },
   "source": [
    "## <font color='blue'>Forward propagation </font>"
   ]
  },
  {
   "cell_type": "code",
   "execution_count": 549,
   "metadata": {
    "id": "5_pBivcY30qf"
   },
   "outputs": [],
   "source": [
    "def sigmoid(z):\n",
    "    '''In this function, we will compute the sigmoid(z)'''\n",
    "    # we can use this function in forward and backward propagation\n",
    "    \n",
    "    sig = 1 /(1+ (np.exp(-1*z)))\n",
    "    \n",
    "    return sig\n",
    "\n",
    "    \n",
    "def forward_propagation(x, y, w):\n",
    "        '''In this function, we will compute the forward propagation '''\n",
    "        # X: input data point, note that in this assignment you are having 5-d data points\n",
    "        # y: output varible\n",
    "        # W: weight array, its of length 9, W[0] corresponds to w1 in graph, W[1] corresponds to w2 in graph,..., W[8] corresponds to w9 in graph.  \n",
    "        # you have to return the following variables\n",
    "        # exp= part1 (compute the forward propagation until exp and then store the values in exp)\n",
    "        # tanh =part2(compute the forward propagation until tanh and then store the values in tanh)\n",
    "        # sig = part3(compute the forward propagation until sigmoid and then store the values in sig)\n",
    "        # now compute remaining values from computional graph and get y'\n",
    "        # write code to compute the value of L=(y-y')^2\n",
    "        # compute derivative of L  w.r.to Y' and store it in dl\n",
    "        # Create a dictionary to store all the intermediate values\n",
    "        # store L, exp,tanh,sig variables\n",
    "        \n",
    "        dict_res = {}\n",
    "        \n",
    "        exp = np.exp(( ( (w[0]*x[0]) + (w[1]*x[1]) ) * ( (w[0]*x[0]) + (w[1]*x[1]) ) ) + w[5])\n",
    "        tanh = np.tanh(exp + w[6])\n",
    "        sig = sigmoid(((np.sin(w[2]*x[2]))* ( (w[3]*x[3]) + (w[4]*x[4]) )) + w[7])\n",
    "        \n",
    "        y_ = (tanh + (sig*w[8]))\n",
    "        \n",
    "        loss = (y-y_)**2\n",
    "\n",
    "        dy_pr = -2*(y-y_)\n",
    "        \n",
    "        dict_res['loss'] =    loss\n",
    "        dict_res['exp'] =     exp\n",
    "        dict_res['tanh'] =    tanh\n",
    "        dict_res['sigmoid'] = sig\n",
    "        dict_res['dy_pr'] =   dy_pr\n",
    "        \n",
    "        return (dict_res)"
   ]
  },
  {
   "cell_type": "markdown",
   "metadata": {
    "id": "z-z1rGKqCHNN"
   },
   "source": [
    "<font color='cyan'>Grader function - 1</font>"
   ]
  },
  {
   "cell_type": "code",
   "execution_count": 550,
   "metadata": {
    "id": "6ZxFF00zBmx1"
   },
   "outputs": [
    {
     "data": {
      "text/plain": [
       "True"
      ]
     },
     "execution_count": 550,
     "metadata": {},
     "output_type": "execute_result"
    }
   ],
   "source": [
    "def grader_sigmoid(z):\n",
    "  val=sigmoid(z)\n",
    "  assert(val==0.8807970779778823)\n",
    "  return True\n",
    "grader_sigmoid(2)"
   ]
  },
  {
   "cell_type": "markdown",
   "metadata": {
    "id": "KgAUXq_aChey"
   },
   "source": [
    "<font color='cyan'>Grader function - 2 </font>"
   ]
  },
  {
   "cell_type": "code",
   "execution_count": 551,
   "metadata": {
    "id": "3uzsUqcjCorN"
   },
   "outputs": [
    {
     "data": {
      "text/plain": [
       "True"
      ]
     },
     "execution_count": 551,
     "metadata": {},
     "output_type": "execute_result"
    }
   ],
   "source": [
    "def grader_forwardprop(data):\n",
    "    dl = (data['dy_pr']==-1.9285278284819143)\n",
    "    loss=(data['loss']==0.9298048963072919)\n",
    "    part1=(data['exp']==1.1272967040973583)\n",
    "    part2=(data['tanh']==0.8417934192562146)\n",
    "    part3=(data['sigmoid']==0.5279179387419721)\n",
    "    assert(dl and loss and part1 and part2 and part3)\n",
    "    return True\n",
    "w=np.ones(9)*0.1\n",
    "d1=forward_propagation(X[0],y[0],w)\n",
    "grader_forwardprop(d1)"
   ]
  },
  {
   "cell_type": "markdown",
   "metadata": {
    "id": "obOaAqj3Sxvb"
   },
   "source": [
    "## <font color='blue'>Backward propagation</font>"
   ]
  },
  {
   "cell_type": "code",
   "execution_count": 552,
   "metadata": {
    "id": "dS49ykcOGhIv"
   },
   "outputs": [],
   "source": [
    "def backward_propagation(L,W,dict_res):\n",
    "    '''In this function, we will compute the backward propagation '''\n",
    "    # L: the loss we calculated for the current point\n",
    "    # dictionary: the outputs of the forward_propagation() function\n",
    "    # write code to compute the gradients of each weight [w1,w2,w3,...,w9]\n",
    "    # Hint: you can use dict type to store the required variables \n",
    "    # dw1 = # in dw1 compute derivative of L w.r.to w1\n",
    "    # dw2 = # in dw2 compute derivative of L w.r.to w2\n",
    "    # dw3 = # in dw3 compute derivative of L w.r.to w3\n",
    "    # dw4 = # in dw4 compute derivative of L w.r.to w4\n",
    "    # dw5 = # in dw5 compute derivative of L w.r.to w5\n",
    "    # dw6 = # in dw6 compute derivative of L w.r.to w6\n",
    "    # dw7 = # in dw7 compute derivative of L w.r.to w7\n",
    "    # dw8 = # in dw8 compute derivative of L w.r.to w8\n",
    "    # dw9 = # in dw9 compute derivative of L w.r.to w9           \n",
    "    \n",
    "    dict_grad = {}\n",
    "    \n",
    "    dw7 = dict_res['dy_pr'] * (1- (dict_res['tanh']**2))\n",
    "    \n",
    "    dw6 = dw7 * (dict_res['exp'])\n",
    "    \n",
    "    dw9 = dict_res['dy_pr'] * dict_res['sigmoid']\n",
    "    \n",
    "    getcontext().prec = 17\n",
    "    getcontext().rounding = getattr(decimal, 'ROUND_DOWN')\n",
    "    \n",
    "    dw8 = float((Decimal(dict_res['dy_pr']) * Decimal(dict_res['sigmoid']) * (Decimal(1) - Decimal(dict_res['sigmoid']) ) * Decimal(W[7])))\n",
    "    \n",
    "    dw3 =  ( (np.cos( L[2] * W[2] ))  * dw8 * (( W[3] * L[3] ) + ( W[4] * L[4] )) * L[2]  )\n",
    "    \n",
    "    dw4 = dw8  * L[3] * np.sin(W[2]*L[2]) \n",
    "    \n",
    "    dw5 = dw8  * L[4] * np.sin(W[2]*L[2])\n",
    "    \n",
    "#     ROUNDING_MODES = [ \n",
    "#     'ROUND_CEILING', \n",
    "#     'ROUND_DOWN',\n",
    "#     'ROUND_FLOOR', \n",
    "#     'ROUND_HALF_DOWN', \n",
    "#     'ROUND_HALF_EVEN',\n",
    "#     'ROUND_HALF_UP',\n",
    "#     'ROUND_UP',\n",
    "#     'ROUND_05UP',\n",
    "#     ]\n",
    "    \n",
    "    getcontext().prec = 17\n",
    "    getcontext().rounding = getattr(decimal, 'ROUND_UP')\n",
    "    \n",
    "    dw1 = float(format(Decimal(dw6)  * ( Decimal(2) *( ( Decimal(W[0]) * Decimal(L[0]) ) + ( Decimal(W[1]) * Decimal(L[1])))) * Decimal(L[0]),'.17f'))\n",
    "    \n",
    "    getcontext().prec = 17\n",
    "    getcontext().rounding = getattr(decimal, 'ROUND_DOWN')\n",
    "    \n",
    "    dw2 =float(format(Decimal(dw6)  * ( Decimal(2) *( ( Decimal(W[0]) * Decimal(L[0]) ) + ( Decimal(W[1]) * Decimal(L[1])))) * Decimal(L[1])))\n",
    "\n",
    "    \n",
    "    dict_grad['dw1'] = dw1\n",
    "    dict_grad['dw2'] = dw2\n",
    "    dict_grad['dw3'] = dw3\n",
    "    dict_grad['dw4'] = dw4\n",
    "    dict_grad['dw5'] = dw5\n",
    "    dict_grad['dw6'] = dw6\n",
    "    dict_grad['dw7'] = dw7\n",
    "    dict_grad['dw8'] = dw8\n",
    "    dict_grad['dw9'] = dw9\n",
    "    \n",
    "    return dict_grad\n",
    "    \n",
    "\n",
    "    # return dW, dW is a dictionary with gradients of all the weights"
   ]
  },
  {
   "cell_type": "markdown",
   "metadata": {
    "id": "2NpZWAVlS4jb"
   },
   "source": [
    "<font color='cyan'>Grader function - 3 </font>"
   ]
  },
  {
   "cell_type": "code",
   "execution_count": 553,
   "metadata": {
    "id": "1a8Kll2xGhMJ"
   },
   "outputs": [
    {
     "data": {
      "text/plain": [
       "True"
      ]
     },
     "execution_count": 553,
     "metadata": {},
     "output_type": "execute_result"
    }
   ],
   "source": [
    "def grader_backprop(data):\n",
    "    dw1=(data['dw1']==-0.22973323498702003)\n",
    "    dw2=(data['dw2']==-0.021407614717752925)\n",
    "    dw3=(data['dw3']==-0.005625405580266319)\n",
    "    dw4=(data['dw4']==-0.004657941222712423)\n",
    "    dw5=(data['dw5']==-0.0010077228498574246)  \n",
    "    dw6=(data['dw6']==-0.6334751873437471)     \n",
    "    dw7=(data['dw7']==-0.561941842854033)\n",
    "    dw8=(data['dw8']==-0.04806288407316516)\n",
    "    dw9=(data['dw9']==-1.0181044360187037)\n",
    "    assert(dw1 and dw2 and dw3 and dw4 and dw5 and dw6 and dw7 and dw8 and dw9)\n",
    "    return True \n",
    "w=np.ones(9)*0.1\n",
    "d1=forward_propagation(X[0],y[0],w)\n",
    "d1=backward_propagation(X[0],w,d1)\n",
    "grader_backprop(d1)"
   ]
  },
  {
   "cell_type": "markdown",
   "metadata": {
    "id": "1rfHHXZwgwo6"
   },
   "source": [
    "## <font color='blue'> Implement gradient checking</font>"
   ]
  },
  {
   "cell_type": "code",
   "execution_count": 554,
   "metadata": {
    "id": "oh8wj1yjGhOi"
   },
   "outputs": [
    {
     "name": "stdout",
     "output_type": "stream",
     "text": [
      "Gradient is Correct\n",
      "Gradient is Correct\n",
      "Gradient is Correct\n",
      "Gradient is Correct\n",
      "Gradient is Correct\n",
      "Gradient is Correct\n",
      "Gradient is Correct\n",
      "Gradient is Correct\n",
      "Gradient is Correct\n"
     ]
    }
   ],
   "source": [
    "#W = initilize_randomly\n",
    "W = np.random.rand(9)\n",
    "\n",
    "def gradient_checking(x,y, W):\n",
    "    \n",
    "    # compute the L value using forward_propagation()\n",
    "    f_p =forward_propagation(x,y,W)\n",
    "   \n",
    "    # compute the gradients of W using backword_propagation()\n",
    "    b_p = backward_propagation(X[0],W,f_p)\n",
    "    \n",
    "    approx_gradients = []\n",
    "    \n",
    "    for wi in range(len(W)):\n",
    "        \n",
    "        # add a small value to weight wi, and then find the values of L with the updated weights\n",
    "        # subtract a small value to weight wi, and then find the values of L with the updated weights\n",
    "        # compute the approximation gradients of weight wi\n",
    "        \n",
    "        W_org = W.copy()\n",
    "        \n",
    "        e = 0.0001\n",
    "        \n",
    "        W_org[wi] =  W_org[wi] + e\n",
    "\n",
    "        f_p =forward_propagation(x,y,W_org)\n",
    "        L_add = f_p['loss']\n",
    "        \n",
    "        \n",
    "        W_org = W.copy()\n",
    "\n",
    "        W_org[wi] =  W_org[wi] - e\n",
    "\n",
    "        f_p =forward_propagation(x,y,W_org)\n",
    "        L_minus = f_p['loss']\n",
    "\n",
    "        w_approx = (L_add - L_minus)/(2*e)\n",
    "        \n",
    "        approx_gradients.append(w_approx)\n",
    "        \n",
    "       \n",
    "\n",
    "    # compare the gradient of weights W from backword_propagation() with the aproximation gradients of weights with gradient_check formula\n",
    "    gradient_check = []\n",
    "\n",
    "    for i , j in zip (b_p.values(),approx_gradients):\n",
    "        gradient_check.append( (i-j)/(i+j) )\n",
    "        \n",
    "    return gradient_check\n",
    "\n",
    "gc = gradient_checking(X[0],y[0],W)\n",
    "\n",
    "for g in gc:\n",
    "    if g < 0.0000001:\n",
    "        print(\"Gradient is Correct\")\n",
    "    else:\n",
    "        print(\"Gradient is Incorrect\")"
   ]
  },
  {
   "cell_type": "markdown",
   "metadata": {
    "id": "MhwDSe99kJ32"
   },
   "source": [
    "# <font color='red'>Task 2: Optimizers"
   ]
  },
  {
   "cell_type": "markdown",
   "metadata": {
    "id": "jJzI-vnPk1dB"
   },
   "source": [
    "###<font color='blue'>Algorithm with Vanilla update of weights</font>"
   ]
  },
  {
   "cell_type": "code",
   "execution_count": 555,
   "metadata": {
    "id": "xJspU6ZuGhRQ"
   },
   "outputs": [],
   "source": [
    "mu, sigma = 0, 0.01 \n",
    "W = np.random.normal(mu, sigma, 9)\n",
    "\n",
    "epoch = []\n",
    "loss = []\n",
    "for i in range(100):\n",
    "    epoch.append(i+1)\n",
    "    \n",
    "    for l,m in zip(X,y):\n",
    "\n",
    "        d1=forward_propagation(l,m,W)\n",
    "        f_p = d1.copy()\n",
    "        d1=backward_propagation(l,W,d1)\n",
    "        grads = list(d1.values())\n",
    "\n",
    "        for k in range(len(grads)):\n",
    "            W[k] = W[k] - ( (0.0001) * grads[k] )\n",
    "\n",
    "    loss.append(f_p['loss'])\n",
    "#             using the functions forward_propagation() and backword_propagation() compute the gradients of weights\n",
    "#             update the weigts with help of gradients  ex: w1 = w1-learning_rate*dw1\n",
    "                \n",
    "\n",
    "                \n",
    "                "
   ]
  },
  {
   "cell_type": "markdown",
   "metadata": {
    "id": "UlTLXrvmlR26"
   },
   "source": [
    "<font color='blue'>Plot between epochs and loss</font>"
   ]
  },
  {
   "cell_type": "code",
   "execution_count": 556,
   "metadata": {
    "id": "CjTCVUIoGhTo"
   },
   "outputs": [
    {
     "data": {
      "image/png": "[encoded data removed]",
      "text/plain": [
       "<Figure size 432x288 with 1 Axes>"
      ]
     },
     "metadata": {
      "needs_background": "light"
     },
     "output_type": "display_data"
    }
   ],
   "source": [
    "\n",
    "import matplotlib.pyplot as plt\n",
    "\n",
    "plt.plot(epoch,loss, label='Loss')\n",
    "plt.title('Epochs Vs Loss : Vanilla Update')\n",
    "plt.xlabel('Epoch')\n",
    "plt.ylabel('Loss')\n",
    "plt.legend()\n",
    "plt.show()\n"
   ]
  },
  {
   "cell_type": "markdown",
   "metadata": {
    "id": "cv_hZFWalS2z"
   },
   "source": [
    "###<font color='blue'>Algorithm with Momentum update of weights</font>"
   ]
  },
  {
   "cell_type": "code",
   "execution_count": 557,
   "metadata": {
    "id": "uucCdyQrGhZt"
   },
   "outputs": [],
   "source": [
    "#https://cs231n.github.io/neural-networks-3/\n",
    "\n",
    "mu, sigma = 0, 0.01 \n",
    "W = np.random.normal(mu, sigma, 9)\n",
    "v = [0,0,0,0,0,0,0,0,0]\n",
    "\n",
    "epoch = []\n",
    "loss = []\n",
    "for i in range(100):\n",
    "    epoch.append(i+1)\n",
    "    \n",
    "    for l,m in zip(X,y):\n",
    "\n",
    "        d1=forward_propagation(l,m,W)\n",
    "        f_p = d1.copy()\n",
    "        d1=backward_propagation(l,W,d1)\n",
    "        grads = list(d1.values())\n",
    "\n",
    "        for k in range(len(grads)):\n",
    "            v[k] = (0.55* v[k]) + (0.0001 * grads[k] )\n",
    "            W[k] = W[k] -  v[k]\n",
    "\n",
    "    loss.append(f_p['loss'])"
   ]
  },
  {
   "cell_type": "markdown",
   "metadata": {
    "id": "Ow20azfKlVhn"
   },
   "source": [
    "<font color='blue'>Plot between epochs and loss</font>"
   ]
  },
  {
   "cell_type": "code",
   "execution_count": 558,
   "metadata": {
    "id": "u-m90Sq_Ghce"
   },
   "outputs": [
    {
     "data": {
      "image/png": "[encoded data removed]",
      "text/plain": [
       "<Figure size 432x288 with 1 Axes>"
      ]
     },
     "metadata": {
      "needs_background": "light"
     },
     "output_type": "display_data"
    }
   ],
   "source": [
    "import matplotlib.pyplot as plt\n",
    "\n",
    "plt.plot(epoch,loss, label='Loss')\n",
    "plt.title('Epochs Vs Loss : Momentum Update')\n",
    "plt.xlabel('Epoch')\n",
    "plt.ylabel('Loss')\n",
    "plt.legend()\n",
    "plt.show()"
   ]
  },
  {
   "cell_type": "markdown",
   "metadata": {
    "id": "V4RWWrZ7lWap"
   },
   "source": [
    "###<font color='blue'>Algorithm with Adam update of weights</font>"
   ]
  },
  {
   "cell_type": "code",
   "execution_count": 559,
   "metadata": {
    "id": "72rRC8rJGhf5"
   },
   "outputs": [],
   "source": [
    "#https://cs231n.github.io/neural-networks-3/\n",
    "\n",
    "mu, sigma = 0, 0.01 \n",
    "W = np.random.normal(mu, sigma, 9)\n",
    "vt = [0,0,0,0,0,0,0,0,0]\n",
    "mt = [0,0,0,0,0,0,0,0,0]\n",
    "vt_hat = [0,0,0,0,0,0,0,0,0]\n",
    "mt_hat = [0,0,0,0,0,0,0,0,0]\n",
    "\n",
    "b1 = 0.9\n",
    "b2 = 0.99\n",
    "a = 0.0001\n",
    "e = 0.00001\n",
    "\n",
    "epoch = []\n",
    "loss = []\n",
    "for i in range(100):\n",
    "    epoch.append(i+1)\n",
    "    \n",
    "    for l,m in zip(X,y):\n",
    "\n",
    "        d1=forward_propagation(l,m,W)\n",
    "        f_p = d1.copy()\n",
    "        d1=backward_propagation(l,W,d1)\n",
    "        grads = list(d1.values())\n",
    "\n",
    "        for k in range(len(grads)):\n",
    "            mt[k] = b1*mt[k] + ( (1-b1) * grads[k] )\n",
    "            vt[k] = b2*vt[k] + ( (1-b2) * grads[k]**2 )\n",
    "            \n",
    "            mt_hat[k] = mt[k]/(1 - b1**(i+1))\n",
    "            vt_hat[k] = vt[k] /(1 - b2**(i+1))\n",
    "            \n",
    "            W[k] = W[k] - ( a * ( mt_hat[k] / ( np.sqrt(vt_hat[k]) + e )  ))\n",
    "\n",
    "    loss.append(f_p['loss'])"
   ]
  },
  {
   "cell_type": "markdown",
   "metadata": {
    "id": "MMy0nBw-lXml"
   },
   "source": [
    "<font color='blue'>Plot between epochs and loss</font>"
   ]
  },
  {
   "cell_type": "code",
   "execution_count": 560,
   "metadata": {
    "id": "aiFRk_uFlm2V"
   },
   "outputs": [
    {
     "data": {
      "image/png": "[encoded data removed]",
      "text/plain": [
       "<Figure size 432x288 with 1 Axes>"
      ]
     },
     "metadata": {
      "needs_background": "light"
     },
     "output_type": "display_data"
    }
   ],
   "source": [
    "import matplotlib.pyplot as plt\n",
    "\n",
    "plt.plot(epoch,loss, label='Loss')\n",
    "plt.title('Epochs Vs Loss : Adam Update')\n",
    "plt.xlabel('Epoch')\n",
    "plt.ylabel('Loss')\n",
    "plt.legend()\n",
    "plt.show()"
   ]
  },
  {
   "cell_type": "markdown",
   "metadata": {
    "id": "7627cy8YlnYO"
   },
   "source": [
    "<font color='blue'>Comparision plot between epochs and loss with different optimizers</font>"
   ]
  },
  {
   "cell_type": "code",
   "execution_count": 561,
   "metadata": {
    "id": "scleSfIXl_bC"
   },
   "outputs": [
    {
     "data": {
      "image/png": "[encoded data removed]",
      "text/plain": [
       "<Figure size 432x288 with 1 Axes>"
      ]
     },
     "metadata": {
      "needs_background": "light"
     },
     "output_type": "display_data"
    }
   ],
   "source": [
    "mu, sigma = 0, 0.01 \n",
    "W = np.random.normal(mu, sigma, 9)\n",
    "\n",
    "epoch = []\n",
    "loss = []\n",
    "for i in range(100):\n",
    "    epoch.append(i+1)\n",
    "    \n",
    "    for l,m in zip(X,y):\n",
    "\n",
    "        d1=forward_propagation(l,m,W)\n",
    "        f_p = d1.copy()\n",
    "        d1=backward_propagation(l,W,d1)\n",
    "        grads = list(d1.values())\n",
    "\n",
    "        for k in range(len(grads)):\n",
    "            W[k] = W[k] - ( (0.0001) * grads[k] )\n",
    "\n",
    "    loss.append(f_p['loss'])\n",
    "    \n",
    "plt.plot(epoch,loss, label='Vanilla Loss')\n",
    "plt.title('Epochs Vs Loss')\n",
    "plt.xlabel('Epoch')\n",
    "plt.ylabel('Loss')\n",
    "plt.legend()\n",
    "\n",
    "\n",
    "mu, sigma = 0, 0.01 \n",
    "W = np.random.normal(mu, sigma, 9)\n",
    "v = [0,0,0,0,0,0,0,0,0]\n",
    "\n",
    "epoch = []\n",
    "loss = []\n",
    "for i in range(100):\n",
    "    epoch.append(i+1)\n",
    "    \n",
    "    for l,m in zip(X,y):\n",
    "\n",
    "        d1=forward_propagation(l,m,W)\n",
    "        f_p = d1.copy()\n",
    "        d1=backward_propagation(l,W,d1)\n",
    "        grads = list(d1.values())\n",
    "\n",
    "        for k in range(len(grads)):\n",
    "            v[k] = (0.55* v[k]) + (0.0001 * grads[k] )\n",
    "            W[k] = W[k] -  v[k]\n",
    "\n",
    "    loss.append(f_p['loss'])\n",
    "\n",
    "plt.plot(epoch,loss, label='Momentum Loss')\n",
    "plt.legend()\n",
    "\n",
    "mu, sigma = 0, 0.01 \n",
    "W = np.random.normal(mu, sigma, 9)\n",
    "vt = [0,0,0,0,0,0,0,0,0]\n",
    "mt = [0,0,0,0,0,0,0,0,0]\n",
    "vt_hat = [0,0,0,0,0,0,0,0,0]\n",
    "mt_hat = [0,0,0,0,0,0,0,0,0]\n",
    "\n",
    "b1 = 0.9\n",
    "b2 = 0.99\n",
    "a = 0.0001\n",
    "e = 0.00001\n",
    "\n",
    "epoch = []\n",
    "loss = []\n",
    "for i in range(100):\n",
    "    epoch.append(i+1)\n",
    "    \n",
    "    for l,m in zip(X,y):\n",
    "\n",
    "        d1=forward_propagation(l,m,W)\n",
    "        f_p = d1.copy()\n",
    "        d1=backward_propagation(l,W,d1)\n",
    "        grads = list(d1.values())\n",
    "\n",
    "        for k in range(len(grads)):\n",
    "            mt[k] = b1*mt[k] + ( (1-b1) * grads[k] )\n",
    "            vt[k] = b2*vt[k] + ( (1-b2) * grads[k]**2 )\n",
    "            \n",
    "            mt_hat[k] = mt[k]/(1 - b1**(i+1))\n",
    "            vt_hat[k] = vt[k] /(1 - b2**(i+1))\n",
    "            \n",
    "            W[k] = W[k] - ( a * ( mt_hat[k] / ( np.sqrt(vt_hat[k]) + e )  ))\n",
    "\n",
    "    loss.append(f_p['loss'])\n",
    "    \n",
    "plt.plot(epoch,loss, label='Adam Loss')\n",
    "plt.legend()\n",
    "plt.show()"
   ]
  },
  {
   "cell_type": "markdown",
   "metadata": {
    "id": "lfXSaOP8rjBY"
   },
   "source": [
    "Momentum update converges fastest in the lowest epochs followed by Vanilla update.\n",
    "\n",
    "All the three updates reach similar lowest loss."
   ]
  }
 ],
 "metadata": {
  "colab": {
   "collapsed_sections": [],
   "name": "Backpropagation_assignment.ipynb",
   "provenance": []
  },
  "kernelspec": {
   "display_name": "Python 3",
   "language": "python",
   "name": "python3"
  },
  "language_info": {
   "codemirror_mode": {
    "name": "ipython",
    "version": 3
   },
   "file_extension": ".py",
   "mimetype": "text/x-python",
   "name": "python",
   "nbconvert_exporter": "python",
   "pygments_lexer": "ipython3",
   "version": "3.8.5"
  }
 },
 "nbformat": 4,
 "nbformat_minor": 1
}
